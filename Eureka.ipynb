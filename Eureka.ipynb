{
 "cells": [
  {
   "cell_type": "code",
   "execution_count": 6,
   "metadata": {},
   "outputs": [
    {
     "data": {
      "text/plain": [
       "14"
      ]
     },
     "execution_count": 6,
     "metadata": {},
     "output_type": "execute_result"
    }
   ],
   "source": [
    "def blackjack(a,b,c):\n",
    "    if a+b+c <=21:\n",
    "        return a+b+c\n",
    "    elif 11 in [a,b,c]:\n",
    "        return (a+b+c)-11\n",
    "    else:\n",
    "        return 'BUST'\n",
    "    \n",
    "\n",
    "blackjack(11,11,3)    "
   ]
  },
  {
   "cell_type": "code",
   "execution_count": 16,
   "metadata": {},
   "outputs": [
    {
     "data": {
      "text/plain": [
       "35"
      ]
     },
     "execution_count": 16,
     "metadata": {},
     "output_type": "execute_result"
    }
   ],
   "source": [
    "def summer69(aar):\n",
    "    sum=0\n",
    "    add=True\n",
    "    for x in arr:\n",
    "        while add:\n",
    "            if x!=6:\n",
    "                sum=sum+x\n",
    "                break\n",
    "            else:\n",
    "                add=False\n",
    "        while not add:\n",
    "            if x!=9:\n",
    "                break\n",
    "            else:\n",
    "                add=True\n",
    "    return sum\n",
    "\n",
    "arr=[1,2,3,4,6,7,9,12,13,6,9]\n",
    "summer69(arr)"
   ]
  },
  {
   "cell_type": "code",
   "execution_count": 27,
   "metadata": {},
   "outputs": [
    {
     "data": {
      "text/plain": [
       "True"
      ]
     },
     "execution_count": 27,
     "metadata": {},
     "output_type": "execute_result"
    }
   ],
   "source": [
    "def check_007(arr):\n",
    "    if len(arr)<=2:\n",
    "        return False\n",
    "    \n",
    "    for x in range(1,len(arr)-2):\n",
    "        if arr[x]==0 and arr[x+1] ==0 and arr[x+2]==7:\n",
    "            return True\n",
    "    return False\n",
    "\n",
    "arr=[1,2,3,0,7,0,1,2,5,0,0,7,0,0]\n",
    "check_007(arr)"
   ]
  },
  {
   "cell_type": "code",
   "execution_count": 32,
   "metadata": {},
   "outputs": [
    {
     "data": {
      "text/plain": [
       "True"
      ]
     },
     "execution_count": 32,
     "metadata": {},
     "output_type": "execute_result"
    }
   ],
   "source": [
    "def spy_game(arr):\n",
    "    code=[0,0,7,'x']\n",
    "    for num in arr:\n",
    "        if num == code[0]:\n",
    "            code.pop(0)\n",
    "    \n",
    "    return len(code)==1\n",
    "\n",
    "arr=[1,1,0,2,0,7,9]\n",
    "spy_game(arr)\n"
   ]
  },
  {
   "cell_type": "code",
   "execution_count": 48,
   "metadata": {},
   "outputs": [
    {
     "name": "stdout",
     "output_type": "stream",
     "text": [
      "3\n",
      "[2, 3]\n"
     ]
    },
    {
     "data": {
      "text/plain": [
       "2"
      ]
     },
     "execution_count": 48,
     "metadata": {},
     "output_type": "execute_result"
    }
   ],
   "source": [
    "def prime_num(num):\n",
    "    if num<2:\n",
    "        return 0\n",
    "    prime=[2]\n",
    "    \n",
    "    x=3\n",
    "    \n",
    "    while x<=num:\n",
    "        for y in range(2,x):\n",
    "            if x%y==0:\n",
    "                x+=1\n",
    "                break\n",
    "        else:\n",
    "            print(x)\n",
    "            prime.append(x)\n",
    "            x+=1\n",
    "    print(prime)\n",
    "    return len(prime)\n",
    "\n",
    "prime_num(3)\n",
    "        "
   ]
  },
  {
   "cell_type": "code",
   "execution_count": 58,
   "metadata": {},
   "outputs": [
    {
     "name": "stdout",
     "output_type": "stream",
     "text": [
      "  *  \n",
      " * * \n",
      "*****\n",
      "*   *\n",
      "*   *\n"
     ]
    }
   ],
   "source": [
    "def print_big(letter):\n",
    "    patterns = {1:'  *  ',2:' * * ',3:'*   *',4:'*****',5:'**** ',6:'   * ',7:' *   ',8:'*   * ',9:'*    '}\n",
    "    alphabet = {'A':[1,2,4,3,3],'B':[5,3,5,3,5],'C':[4,9,9,9,4],'D':[5,3,3,3,5],'E':[4,9,4,9,4]}\n",
    "    for pattern in alphabet[letter.upper()]:\n",
    "        print(patterns[pattern])\n",
    "\n",
    "print_big('a')\n"
   ]
  },
  {
   "cell_type": "code",
   "execution_count": null,
   "metadata": {},
   "outputs": [],
   "source": []
  }
 ],
 "metadata": {
  "kernelspec": {
   "display_name": "Python 3",
   "language": "python",
   "name": "python3"
  },
  "language_info": {
   "codemirror_mode": {
    "name": "ipython",
    "version": 3
   },
   "file_extension": ".py",
   "mimetype": "text/x-python",
   "name": "python",
   "nbconvert_exporter": "python",
   "pygments_lexer": "ipython3",
   "version": "3.6.7"
  }
 },
 "nbformat": 4,
 "nbformat_minor": 2
}
